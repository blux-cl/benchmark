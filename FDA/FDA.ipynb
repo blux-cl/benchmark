{
 "cells": [
  {
   "cell_type": "code",
   "execution_count": 8,
   "metadata": {},
   "outputs": [],
   "source": [
    "import requests\n",
    "import pandas as pd\n",
    "import io\n",
    "API_KEY = 'zEzM0VWrzfNA9PX13J8Vc4w929agQ9LibALocgka'"
   ]
  },
  {
   "cell_type": "markdown",
   "metadata": {},
   "source": [
    "With an API key: 240 requests per minute, per key. 120,000 requests per day, per key."
   ]
  },
  {
   "cell_type": "markdown",
   "metadata": {},
   "source": [
    "# Food"
   ]
  },
  {
   "cell_type": "markdown",
   "metadata": {},
   "source": [
    "## Event"
   ]
  },
  {
   "cell_type": "code",
   "execution_count": 30,
   "metadata": {},
   "outputs": [],
   "source": [
    "search = 'date_started:[20040101+TO+20160101]&limit=1'\n",
    "url = f'https://api.fda.gov/food/event.json?api_key={API_KEY}&search={search}'\n",
    "response = requests.get(url)\n",
    "res = response.json()['results']"
   ]
  },
  {
   "cell_type": "code",
   "execution_count": 31,
   "metadata": {},
   "outputs": [
    {
     "data": {
      "text/plain": [
       "{'report_number': '164197',\n",
       " 'outcomes': ['Visited a Health Care Provider'],\n",
       " 'date_created': '20130405',\n",
       " 'reactions': ['ABDOMINAL PAIN',\n",
       "  'BODY TEMPERATURE INCREASED',\n",
       "  'DIARRHOEA',\n",
       "  'NAUSEA'],\n",
       " 'date_started': '20130308',\n",
       " 'consumer': {'gender': 'F'},\n",
       " 'products': [{'role': 'SUSPECT',\n",
       "   'name_brand': 'MARKETSIDE ORGANIC BABY SPINACH',\n",
       "   'industry_code': '24',\n",
       "   'industry_name': 'Vegetables/Vegetable Products'}]}"
      ]
     },
     "execution_count": 31,
     "metadata": {},
     "output_type": "execute_result"
    }
   ],
   "source": [
    "res[0]"
   ]
  },
  {
   "cell_type": "markdown",
   "metadata": {},
   "source": [
    "## Enforcement"
   ]
  },
  {
   "cell_type": "code",
   "execution_count": 28,
   "metadata": {},
   "outputs": [],
   "source": [
    "search = 'report_date:[20040101+TO+20160101]&limit=1'\n",
    "url = f'https://api.fda.gov/food/enforcement.json?api_key={API_KEY}&search={search}'\n",
    "response = requests.get(url)\n",
    "res = response.json()['results']"
   ]
  },
  {
   "cell_type": "code",
   "execution_count": 29,
   "metadata": {},
   "outputs": [
    {
     "data": {
      "text/plain": [
       "{'country': 'United States',\n",
       " 'city': 'Miami',\n",
       " 'address_1': '13439 NW 19 LANE',\n",
       " 'reason_for_recall': 'Virginia State (VDACS) found Listeria monocytogenes in Lacteos Santa Martha Quesito Casero Fresh Curd (Best by 9/27/14), FDA made an inspection, were the environmental samples collected came up positive also for Listeria monocytogenes, also the Oasis Brands Inc. sent finish products samples to a private lab, the Lacteos Santa Martha Cuajada en Hoja Queso Casero Hecho a Mano Fresh Curd (Best By dates of 10/18/14 and 11/25/14) came also positive for Listeria monocytogenes.  Oasis Brands Inc.  is voluntarily recalling ALL their Lacteos Santa Martha brand products manufactured that are within expiration date.',\n",
       " 'address_2': '',\n",
       " 'product_quantity': '144 pieces',\n",
       " 'code_info': 'UPC 635349 000390  Best By dates: 07/01/14 thru 12/31/14',\n",
       " 'center_classification_date': '20141202',\n",
       " 'distribution_pattern': 'FL, GA. NC, and TN',\n",
       " 'state': 'FL',\n",
       " 'product_description': 'Crema GuateLinda (Guatemalan Style Cream) in individually soft poly/plastic bags labeled in part: Lacteos Santa Martha Crema GuateLinda Guatemalan Style Cream Net WT 1 LB (16 oz)',\n",
       " 'report_date': '20141210',\n",
       " 'classification': 'Class I',\n",
       " 'openfda': {},\n",
       " 'recalling_firm': 'Oasis Brands, Inc',\n",
       " 'recall_number': 'F-0609-2015',\n",
       " 'initial_firm_notification': 'Two or more of the following: Email, Fax, Letter, Press Release, Telephone, Visit',\n",
       " 'product_type': 'Food',\n",
       " 'event_id': '69516',\n",
       " 'termination_date': '20170328',\n",
       " 'recall_initiation_date': '20141010',\n",
       " 'postal_code': '33182',\n",
       " 'voluntary_mandated': 'Voluntary: Firm initiated',\n",
       " 'status': 'Terminated'}"
      ]
     },
     "execution_count": 29,
     "metadata": {},
     "output_type": "execute_result"
    }
   ],
   "source": [
    "res[0]"
   ]
  },
  {
   "cell_type": "markdown",
   "metadata": {},
   "source": [
    "# Drug"
   ]
  },
  {
   "cell_type": "markdown",
   "metadata": {},
   "source": [
    "## NDC directory (National Drug Code)"
   ]
  },
  {
   "cell_type": "code",
   "execution_count": null,
   "metadata": {},
   "outputs": [],
   "source": [
    "https://api.fda.gov/drug/ndc.json?search=finished:true&limit=1"
   ]
  },
  {
   "cell_type": "code",
   "execution_count": 32,
   "metadata": {},
   "outputs": [],
   "source": [
    "search = 'finished:true&limit=1'\n",
    "url = f'https://api.fda.gov/drug/ndc.json?api_key={API_KEY}&search={search}'\n",
    "response = requests.get(url)\n",
    "res = response.json()['results']"
   ]
  },
  {
   "cell_type": "code",
   "execution_count": 33,
   "metadata": {},
   "outputs": [
    {
     "data": {
      "text/plain": [
       "{'product_ndc': '71751-101',\n",
       " 'marketing_end_date': '20241231',\n",
       " 'generic_name': 'Sunscreen',\n",
       " 'labeler_name': 'Kerstin Florian, Inc.',\n",
       " 'brand_name': 'Kerstin Florian Multi-Vitamin Day Creme SPF 30',\n",
       " 'active_ingredients': [{'name': 'ZINC OXIDE', 'strength': '20.2 g/100g'}],\n",
       " 'finished': True,\n",
       " 'packaging': [{'package_ndc': '71751-101-50',\n",
       "   'description': '1 TUBE in 1 BOX (71751-101-50)  > 50 g in 1 TUBE',\n",
       "   'marketing_start_date': '20191010',\n",
       "   'marketing_end_date': '20241231',\n",
       "   'sample': False}],\n",
       " 'openfda': {'manufacturer_name': ['Kerstin Florian, Inc.'],\n",
       "  'spl_set_id': ['949543d5-5044-ac06-e053-2995a90ab398'],\n",
       "  'is_original_packager': [True],\n",
       "  'unii': ['SOI2LOH54Z']},\n",
       " 'marketing_category': 'OTC MONOGRAPH FINAL',\n",
       " 'dosage_form': 'CREAM',\n",
       " 'spl_id': '949554f3-239d-9b84-e053-2995a90a30a9',\n",
       " 'product_type': 'HUMAN OTC DRUG',\n",
       " 'route': ['TOPICAL'],\n",
       " 'marketing_start_date': '20191010',\n",
       " 'product_id': '71751-101_949554f3-239d-9b84-e053-2995a90a30a9',\n",
       " 'application_number': 'part352',\n",
       " 'brand_name_base': 'Kerstin Florian Multi-Vitamin Day Creme SPF 30'}"
      ]
     },
     "execution_count": 33,
     "metadata": {},
     "output_type": "execute_result"
    }
   ],
   "source": [
    "res[0]"
   ]
  },
  {
   "cell_type": "markdown",
   "metadata": {},
   "source": [
    "## Drugs FDA"
   ]
  },
  {
   "cell_type": "code",
   "execution_count": null,
   "metadata": {},
   "outputs": [],
   "source": [
    "https://api.fda.gov/drug/drugsfda.json?limit=1"
   ]
  },
  {
   "cell_type": "code",
   "execution_count": 34,
   "metadata": {},
   "outputs": [],
   "source": [
    "search = 'limit=1'\n",
    "url = f'https://api.fda.gov/drug/drugsfda.json?api_key={API_KEY}&search={search}'\n",
    "response = requests.get(url)\n",
    "res = response.json()['results']"
   ]
  },
  {
   "cell_type": "code",
   "execution_count": 35,
   "metadata": {},
   "outputs": [
    {
     "data": {
      "text/plain": [
       "{'submissions': [{'submission_type': 'ORIG',\n",
       "   'submission_number': '2',\n",
       "   'submission_status': 'AP',\n",
       "   'submission_status_date': '20200615',\n",
       "   'review_priority': 'STANDARD',\n",
       "   'submission_class_code': 'UNKNOWN'},\n",
       "  {'submission_type': 'ORIG',\n",
       "   'submission_number': '1',\n",
       "   'submission_status': 'AP',\n",
       "   'submission_status_date': '20191120',\n",
       "   'review_priority': 'STANDARD',\n",
       "   'submission_class_code': 'UNKNOWN'},\n",
       "  {'submission_type': 'SUPPL',\n",
       "   'submission_number': '1',\n",
       "   'submission_status': 'AP',\n",
       "   'submission_status_date': '20200618',\n",
       "   'review_priority': 'STANDARD',\n",
       "   'submission_class_code': 'LABELING',\n",
       "   'submission_class_code_description': 'Labeling'}],\n",
       " 'application_number': 'ANDA211383',\n",
       " 'sponsor_name': 'ZYDUS PHARMS',\n",
       " 'openfda': {'application_number': ['ANDA211383'],\n",
       "  'brand_name': ['DEFERASIROX'],\n",
       "  'generic_name': ['DEFERASIROX'],\n",
       "  'manufacturer_name': ['Zydus Pharmaceuticals (USA) Inc.',\n",
       "   'Zydus Lifesciences Limited',\n",
       "   'Northstar Rx LLC.'],\n",
       "  'product_ndc': ['70710-1275',\n",
       "   '70710-1277',\n",
       "   '70710-1276',\n",
       "   '70771-1471',\n",
       "   '70771-1473',\n",
       "   '70771-1472',\n",
       "   '16714-993',\n",
       "   '16714-995',\n",
       "   '16714-994'],\n",
       "  'product_type': ['HUMAN PRESCRIPTION DRUG'],\n",
       "  'route': ['ORAL'],\n",
       "  'substance_name': ['DEFERASIROX'],\n",
       "  'rxcui': ['1607784', '1607792', '1607796'],\n",
       "  'spl_id': ['60c3b328-1983-4d74-abbd-b243d724afa3',\n",
       "   '15e62afe-3586-4f19-b88d-cbfa30139413',\n",
       "   '985bacb0-2273-4e1f-b70b-0eaca6da536f'],\n",
       "  'spl_set_id': ['4af5bc9e-3e09-4dfd-8cc8-7677953c9c7c',\n",
       "   'fcd2ffe2-c8ba-400b-b7f9-e0e4b3510b98',\n",
       "   '6b2840f1-8d19-4a22-b66a-13b3d76b10d1'],\n",
       "  'package_ndc': ['70710-1275-3',\n",
       "   '70710-1275-1',\n",
       "   '70710-1277-3',\n",
       "   '70710-1277-1',\n",
       "   '70710-1276-3',\n",
       "   '70710-1276-1',\n",
       "   '70771-1471-3',\n",
       "   '70771-1471-1',\n",
       "   '70771-1473-3',\n",
       "   '70771-1473-1',\n",
       "   '70771-1472-3',\n",
       "   '70771-1472-1',\n",
       "   '16714-993-01',\n",
       "   '16714-995-01',\n",
       "   '16714-994-01'],\n",
       "  'nui': ['N0000000144',\n",
       "   'N0000175522',\n",
       "   'N0000185506',\n",
       "   'N0000187062',\n",
       "   'N0000182138'],\n",
       "  'pharm_class_moa': ['Iron Chelating Activity [MoA]',\n",
       "   'Cytochrome P450 3A4 Inducers [MoA]',\n",
       "   'Cytochrome P450 2C8 Inhibitors [MoA]',\n",
       "   'Cytochrome P450 1A2 Inhibitors [MoA]'],\n",
       "  'pharm_class_epc': ['Iron Chelator [EPC]'],\n",
       "  'unii': ['V8G4MOF2V9']},\n",
       " 'products': [{'product_number': '003',\n",
       "   'reference_drug': 'No',\n",
       "   'brand_name': 'DEFERASIROX',\n",
       "   'active_ingredients': [{'name': 'DEFERASIROX', 'strength': '180MG'}],\n",
       "   'reference_standard': 'No',\n",
       "   'dosage_form': 'TABLET',\n",
       "   'route': 'ORAL',\n",
       "   'marketing_status': 'Prescription',\n",
       "   'te_code': 'AB'},\n",
       "  {'product_number': '001',\n",
       "   'reference_drug': 'No',\n",
       "   'brand_name': 'DEFERASIROX',\n",
       "   'active_ingredients': [{'name': 'DEFERASIROX', 'strength': '90MG'}],\n",
       "   'reference_standard': 'No',\n",
       "   'dosage_form': 'TABLET',\n",
       "   'route': 'ORAL',\n",
       "   'marketing_status': 'Prescription',\n",
       "   'te_code': 'AB'},\n",
       "  {'product_number': '002',\n",
       "   'reference_drug': 'No',\n",
       "   'brand_name': 'DEFERASIROX',\n",
       "   'active_ingredients': [{'name': 'DEFERASIROX', 'strength': '360MG'}],\n",
       "   'reference_standard': 'No',\n",
       "   'dosage_form': 'TABLET',\n",
       "   'route': 'ORAL',\n",
       "   'marketing_status': 'Prescription',\n",
       "   'te_code': 'AB'}]}"
      ]
     },
     "execution_count": 35,
     "metadata": {},
     "output_type": "execute_result"
    }
   ],
   "source": [
    "res[0]"
   ]
  }
 ],
 "metadata": {
  "kernelspec": {
   "display_name": "Python 3",
   "language": "python",
   "name": "python3"
  },
  "language_info": {
   "codemirror_mode": {
    "name": "ipython",
    "version": 3
   },
   "file_extension": ".py",
   "mimetype": "text/x-python",
   "name": "python",
   "nbconvert_exporter": "python",
   "pygments_lexer": "ipython3",
   "version": "3.8.10"
  }
 },
 "nbformat": 4,
 "nbformat_minor": 4
}
