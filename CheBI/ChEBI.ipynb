version https://git-lfs.github.com/spec/v1
oid sha256:a61bb137f7cb293391077fd619f5174e88722a26867be04feb44a549e1a3ed11
size 322711
