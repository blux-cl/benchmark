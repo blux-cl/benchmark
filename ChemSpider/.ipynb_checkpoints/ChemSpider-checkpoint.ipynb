{
 "cells": [
  {
   "cell_type": "code",
   "execution_count": 1,
   "metadata": {},
   "outputs": [
    {
     "data": {
      "text/plain": [
       "'\\nThe Royal Society of Chemistry web services are currently available as an Open Developer Preview.\\nDuring the preview you can make 1000 calls per month. For an increased allowance, contact api@rsc.org.\\n\\nAll operations require an API key. To obtain one, Register for a RSC Developers account and then\\nAdd a new key.\\n'"
      ]
     },
     "execution_count": 1,
     "metadata": {},
     "output_type": "execute_result"
    }
   ],
   "source": [
    "#https://chemspipy.readthedocs.io/en/latest/api.html\n",
    "#https://www.programmableweb.com/api/chemspider\n",
    "'''\n",
    "The Royal Society of Chemistry web services are currently available as an Open Developer Preview.\n",
    "During the preview you can make 1000 calls per month. For an increased allowance, contact api@rsc.org.\n",
    "\n",
    "All operations require an API key. To obtain one, Register for a RSC Developers account and then\n",
    "Add a new key.\n",
    "'''"
   ]
  },
  {
   "cell_type": "code",
   "execution_count": 16,
   "metadata": {},
   "outputs": [],
   "source": [
    "from chemspipy import ChemSpider\n",
    "cs = ChemSpider('ud4RRF0uPgvBMTU844GFzF80QlNeSMsL')\n",
    "c1 = cs.get_compound(236)  # Specify compound by ChemSpider ID\n",
    "c2 = cs.search('glucose')  # Search using name, SMILES, InChI, InChIKey, etc."
   ]
  },
  {
   "cell_type": "code",
   "execution_count": 17,
   "metadata": {},
   "outputs": [
    {
     "data": {
      "text/plain": [
       "Results([Compound(5589), Compound(58238), Compound(71358), Compound(96749), Compound(2006622), Compound(5341883), Compound(5360239), Compound(9129332), Compound(9281077), Compound(9312824), Compound(9484839), Compound(9655623)])"
      ]
     },
     "execution_count": 17,
     "metadata": {},
     "output_type": "execute_result"
    }
   ],
   "source": [
    "c2"
   ]
  },
  {
   "cell_type": "code",
   "execution_count": 3,
   "metadata": {},
   "outputs": [],
   "source": [
    "compound_names = ['glucose', 'sucrose', 'D-glucitol', 'mannitol', 'fructose',\n",
    "'acetic acid', 'glutamic acid', 'citric acid', 'L-ascorbic acid', 'benzoic acid',\n",
    "'pectin', 'carboxymethylcellulose', 'gum arabic', 'xanthan',\n",
    "'Maltodextrin-dextrose equivalent 10-15', 'fructooligosaccharide', 'inulin', 'sucralose',\n",
    "'aspartame', 'stevioside', 'stevia', 'phosphoric acid',\n",
    "'sodium carbonate', 'Dioleoyl lecithin', 'alginate', 'carrageenan',\n",
    "'agar', 'Amylum', 'Papain Inhibitor', 'gallic acid',\n",
    "'potassium chloride', 'carboxymethylcellulose', 'calcium nitrate']"
   ]
  },
  {
   "cell_type": "code",
   "execution_count": 24,
   "metadata": {},
   "outputs": [
    {
     "ename": "AttributeError",
     "evalue": "'Compound' object has no attribute 'id'",
     "output_type": "error",
     "traceback": [
      "\u001b[0;31m---------------------------------------------------------------------------\u001b[0m",
      "\u001b[0;31mAttributeError\u001b[0m                            Traceback (most recent call last)",
      "\u001b[0;32m<ipython-input-24-b0b730dd9c78>\u001b[0m in \u001b[0;36m<module>\u001b[0;34m\u001b[0m\n\u001b[1;32m      1\u001b[0m \u001b[0ms\u001b[0m \u001b[0;34m=\u001b[0m \u001b[0mcs\u001b[0m\u001b[0;34m.\u001b[0m\u001b[0msearch\u001b[0m\u001b[0;34m(\u001b[0m\u001b[0;34m'glucose'\u001b[0m\u001b[0;34m)\u001b[0m  \u001b[0;31m# Search using name, SMILES, InChI, InChIKey, etc.\u001b[0m\u001b[0;34m\u001b[0m\u001b[0;34m\u001b[0m\u001b[0m\n\u001b[1;32m      2\u001b[0m \u001b[0;32mfor\u001b[0m \u001b[0mresult\u001b[0m \u001b[0;32min\u001b[0m \u001b[0ms\u001b[0m\u001b[0;34m:\u001b[0m\u001b[0;34m\u001b[0m\u001b[0;34m\u001b[0m\u001b[0m\n\u001b[0;32m----> 3\u001b[0;31m     \u001b[0mprint\u001b[0m\u001b[0;34m(\u001b[0m\u001b[0mresult\u001b[0m\u001b[0;34m.\u001b[0m\u001b[0mid\u001b[0m\u001b[0;34m)\u001b[0m\u001b[0;34m\u001b[0m\u001b[0;34m\u001b[0m\u001b[0m\n\u001b[0m",
      "\u001b[0;31mAttributeError\u001b[0m: 'Compound' object has no attribute 'id'"
     ]
    }
   ],
   "source": [
    "s = cs.search('glucose')  # Search using name, SMILES, InChI, InChIKey, etc.\n",
    "for result in s:\n",
    "    print(result.id)"
   ]
  },
  {
   "cell_type": "code",
   "execution_count": 14,
   "metadata": {},
   "outputs": [
    {
     "name": "stdout",
     "output_type": "stream",
     "text": [
      "dict_keys(['id', 'smiles', 'formula', 'averageMass', 'molecularWeight', 'monoisotopicMass', 'nominalMass', 'commonName', 'referenceCount', 'dataSourceCount', 'pubMedCount', 'rscCount', 'mol2D', 'mol3D'])\n"
     ]
    }
   ],
   "source": [
    "info = cs.get_details(31)\n",
    "print(info.keys())"
   ]
  },
  {
   "cell_type": "code",
   "execution_count": 15,
   "metadata": {},
   "outputs": [
    {
     "data": {
      "text/plain": [
       "{'id': 31,\n",
       " 'smiles': 'C(=CC(=O)O)C=C(C(=O)O)C(=O)O',\n",
       " 'formula': 'C_{7}H_{6}O_{6}',\n",
       " 'averageMass': 186.1189,\n",
       " 'molecularWeight': 186.11894,\n",
       " 'monoisotopicMass': 186.016434,\n",
       " 'nominalMass': 186,\n",
       " 'commonName': '1,3-Butadiene-1,1,4-tricarboxylic acid',\n",
       " 'referenceCount': 3,\n",
       " 'dataSourceCount': 3,\n",
       " 'pubMedCount': 0,\n",
       " 'rscCount': 0,\n",
       " 'mol2D': '32\\n  -OEChem-02070708192D\\n\\n 19 18  0     0  0  0  0  0  0999 V2000\\n    2.8660    1.4050    0.0000 O   0  0  0  0  0  0  0  0  0  0  0  0\\n    6.3301    1.4050    0.0000 O   0  0  0  0  0  0  0  0  0  0  0  0\\n    3.7321    2.9050    0.0000 O   0  0  0  0  0  0  0  0  0  0  0  0\\n    5.4641    2.9050    0.0000 O   0  0  0  0  0  0  0  0  0  0  0  0\\n    2.8660   -2.5950    0.0000 O   0  0  0  0  0  0  0  0  0  0  0  0\\n    2.0000   -1.0950    0.0000 O   0  0  0  0  0  0  0  0  0  0  0  0\\n    4.5981    1.4050    0.0000 C   0  0  0  0  0  0  0  0  0  0  0  0\\n    4.5981    0.4050    0.0000 C   0  0  0  0  0  0  0  0  0  0  0  0\\n    3.7321   -0.0950    0.0000 C   0  0  0  0  0  0  0  0  0  0  0  0\\n    3.7321    1.9050    0.0000 C   0  0  0  0  0  0  0  0  0  0  0  0\\n    5.4641    1.9050    0.0000 C   0  0  0  0  0  0  0  0  0  0  0  0\\n    3.7321   -1.0950    0.0000 C   0  0  0  0  0  0  0  0  0  0  0  0\\n    2.8660   -1.5950    0.0000 C   0  0  0  0  0  0  0  0  0  0  0  0\\n    5.1350    0.0950    0.0000 H   0  0  0  0  0  0  0  0  0  0  0  0\\n    3.1951    0.2150    0.0000 H   0  0  0  0  0  0  0  0  0  0  0  0\\n    4.2690   -1.4050    0.0000 H   0  0  0  0  0  0  0  0  0  0  0  0\\n    2.3291    1.7150    0.0000 H   0  0  0  0  0  0  0  0  0  0  0  0\\n    6.8671    1.7150    0.0000 H   0  0  0  0  0  0  0  0  0  0  0  0\\n    2.3291   -2.9050    0.0000 H   0  0  0  0  0  0  0  0  0  0  0  0\\n  1 10  1  0  0  0  0\\n  1 17  1  0  0  0  0\\n  2 11  1  0  0  0  0\\n  2 18  1  0  0  0  0\\n  3 10  2  0  0  0  0\\n  4 11  2  0  0  0  0\\n  5 13  1  0  0  0  0\\n  5 19  1  0  0  0  0\\n  6 13  2  0  0  0  0\\n  7  8  2  0  0  0  0\\n  7 10  1  0  0  0  0\\n  7 11  1  0  0  0  0\\n  8  9  1  0  0  0  0\\n  8 14  1  0  0  0  0\\n  9 12  2  3  0  0  0\\n  9 15  1  0  0  0  0\\n 12 13  1  0  0  0  0\\n 12 16  1  0  0  0  0\\nM  END\\n> <PUBCHEM_BONDANNOTATIONS>\\n9  12  1\\n\\n$$$$\\n',\n",
       " 'mol3D': '32\\n  Marvin  12300703363D          \\n\\n 19 18  0  0  0  0            999 V2000\\n    1.1266   -3.1425    0.4481 O   0  0  0  0  0  0  0  0  0  0  0  0\\n    3.2542    0.0746    0.4094 O   0  0  0  0  0  0  0  0  0  0  0  0\\n   -0.2876   -2.4614   -0.8619 O   0  0  0  0  0  0  0  0  0  0  0  0\\n    3.3391   -1.6805   -0.6114 O   0  0  0  0  0  0  0  0  0  0  0  0\\n   -3.5005    2.7025   -0.0845 O   0  0  0  0  0  0  0  0  0  0  0  0\\n   -3.6866    0.6553   -0.0573 O   0  0  0  0  0  0  0  0  0  0  0  0\\n    1.2322   -0.9189   -0.1193 C   0  0  0  0  0  0  0  0  0  0  0  0\\n    0.4833    0.2159   -0.0906 C   0  0  0  0  0  0  0  0  0  0  0  0\\n   -0.8782    0.3522   -0.0434 C   0  0  0  0  0  0  0  0  0  0  0  0\\n    0.6807   -2.1783   -0.1710 C   0  0  0  0  0  0  0  0  0  0  0  0\\n    2.6096   -0.8364   -0.1054 C   0  0  0  0  0  0  0  0  0  0  0  0\\n   -1.5747    1.5046   -0.1086 C   0  0  0  0  0  0  0  0  0  0  0  0\\n   -2.9303    1.6164   -0.0806 C   0  0  0  0  0  0  0  0  0  0  0  0\\n    0.9727    1.0853   -0.1014 H   0  0  0  0  0  0  0  0  0  0  0  0\\n   -1.4155   -0.4750    0.0565 H   0  0  0  0  0  0  0  0  0  0  0  0\\n   -1.0620    2.3552   -0.1873 H   0  0  0  0  0  0  0  0  0  0  0  0\\n    1.8299   -3.0648    0.9720 H   0  0  0  0  0  0  0  0  0  0  0  0\\n    2.8602    0.7357    0.8352 H   0  0  0  0  0  0  0  0  0  0  0  0\\n   -3.0531    3.4601   -0.0982 H   0  0  0  0  0  0  0  0  0  0  0  0\\n  1 10  1  0  0  0  0\\n  1 17  1  0  0  0  0\\n  2 11  1  0  0  0  0\\n  2 18  1  0  0  0  0\\n  3 10  2  0  0  0  0\\n  4 11  2  0  0  0  0\\n  5 13  1  0  0  0  0\\n  5 19  1  0  0  0  0\\n  6 13  2  0  0  0  0\\n  7  8  2  0  0  0  0\\n  7 10  1  0  0  0  0\\n  7 11  1  0  0  0  0\\n  8  9  1  0  0  0  0\\n  8 14  1  0  0  0  0\\n  9 12  2  0  0  0  0\\n  9 15  1  0  0  0  0\\n 12 13  1  0  0  0  0\\n 12 16  1  0  0  0  0\\nM  END\\n> <PUBCHEM_BONDANNOTATIONS>\\n9  12  1\\n\\n$$$$\\n'}"
      ]
     },
     "execution_count": 15,
     "metadata": {},
     "output_type": "execute_result"
    }
   ],
   "source": [
    "info"
   ]
  },
  {
   "cell_type": "code",
   "execution_count": 10,
   "metadata": {},
   "outputs": [
    {
     "data": {
      "text/plain": [
       "'Benzene'"
      ]
     },
     "execution_count": 10,
     "metadata": {},
     "output_type": "execute_result"
    }
   ],
   "source": [
    "info['commonName']"
   ]
  }
 ],
 "metadata": {
  "kernelspec": {
   "display_name": "Python 3",
   "language": "python",
   "name": "python3"
  },
  "language_info": {
   "codemirror_mode": {
    "name": "ipython",
    "version": 3
   },
   "file_extension": ".py",
   "mimetype": "text/x-python",
   "name": "python",
   "nbconvert_exporter": "python",
   "pygments_lexer": "ipython3",
   "version": "3.8.10"
  }
 },
 "nbformat": 4,
 "nbformat_minor": 4
}
