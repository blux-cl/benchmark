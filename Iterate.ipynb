{
 "cells": [
  {
   "cell_type": "code",
   "execution_count": null,
   "metadata": {},
   "outputs": [],
   "source": [
    "from libchebipy import ChebiEntity, Name, Comment, Formula, DatabaseAccession, Reference, CompoundOrigin, Relation\n",
    "import pubchempy as pcp\n",
    "from chembl_webresource_client.new_client import new_client\n",
    "from Bio.KEGG import REST\n",
    "import pandas as pd\n",
    "import io\n",
    "import numpy as np\n",
    "def to_df(result):\n",
    "    return pd.read_table(io.StringIO(result), header=None)\n",
    "import time\n",
    "from chemspipy import ChemSpider\n",
    "cs = ChemSpider('ud4RRF0uPgvBMTU844GFzF80QlNeSMsL')"
   ]
  },
  {
   "cell_type": "code",
   "execution_count": null,
   "metadata": {},
   "outputs": [],
   "source": [
    "#chebi_id 17234\n",
    "\n",
    "#chembl_id CHEMBL2108700\n",
    "\n",
    "#KEGG C00031, D00936\n",
    "\n",
    "#pubchem_cid 5988, 131704328"
   ]
  },
  {
   "cell_type": "markdown",
   "metadata": {},
   "source": [
    "# Chebi"
   ]
  },
  {
   "cell_type": "code",
   "execution_count": null,
   "metadata": {},
   "outputs": [],
   "source": [
    "chebi_ids = np.arange(0,60000) #56,090\n",
    "chebi_ids = [str(x) for x in chebi_ids]\n",
    "chebi_ids[0:10]"
   ]
  },
  {
   "cell_type": "code",
   "execution_count": 33,
   "metadata": {},
   "outputs": [
    {
     "name": "stdout",
     "output_type": "stream",
     "text": [
      "Total time: 0.10477542877197266\n",
      "56429 found - 56429 not found\n"
     ]
    }
   ],
   "source": [
    "start = time.time()\n",
    "\n",
    "c, i = [], []\n",
    "for chebi_id in chebi_ids:\n",
    "    try:\n",
    "        chebi_entity = ChebiEntity(chebi_id=chebi_id)\n",
    "        c.append(chebi_id)\n",
    "        #print(f\"{chebi_entity.get_name()}\")\n",
    "    except:\n",
    "        i.append(chebi_id)\n",
    "        #print(f\"{chebi_id} not found\")\n",
    "        \n",
    "print(f'Total time: {time.time() - start}')\n",
    "print(f'{len(c)} found - {len(c)} not found')"
   ]
  },
  {
   "cell_type": "markdown",
   "metadata": {},
   "source": [
    "- 5.67 x 10^-5 segundos por componente\n",
    "- 60000 componentes totales aprox\n",
    "- Total: 3.402 segundos aprox"
   ]
  },
  {
   "cell_type": "markdown",
   "metadata": {},
   "source": [
    "# Pubchem"
   ]
  },
  {
   "cell_type": "code",
   "execution_count": null,
   "metadata": {},
   "outputs": [],
   "source": [
    "pubchem_ids = list(range(10000000))\n",
    "pubchem_ids[0:10]"
   ]
  },
  {
   "cell_type": "code",
   "execution_count": null,
   "metadata": {},
   "outputs": [],
   "source": [
    "start = time.time()\n",
    "\n",
    "c, i = [], []\n",
    "for pubchem_id in pubchem_ids:\n",
    "    try:\n",
    "        c = pcp.Compound.from_cid(pubchem_id)\n",
    "        c.append(pubchem_id)\n",
    "    except Exception as e:\n",
    "        i.append(pubchem_id)\n",
    "        \n",
    "print(f'Total time: {time.time() - start}')\n",
    "print(f'{len(c)} found - {len(i)} not found')"
   ]
  },
  {
   "cell_type": "markdown",
   "metadata": {},
   "source": [
    "- 1.39 segundos por componente\n",
    "- 100000000 componentes totales aprox\n",
    "- Total: 139000000 segundos -> 38611 horas aprox"
   ]
  },
  {
   "cell_type": "markdown",
   "metadata": {},
   "source": [
    "# Chembl"
   ]
  },
  {
   "cell_type": "code",
   "execution_count": 59,
   "metadata": {},
   "outputs": [
    {
     "data": {
      "text/plain": [
       "['CHEMBL0',\n",
       " 'CHEMBL1',\n",
       " 'CHEMBL2',\n",
       " 'CHEMBL3',\n",
       " 'CHEMBL4',\n",
       " 'CHEMBL5',\n",
       " 'CHEMBL6',\n",
       " 'CHEMBL7',\n",
       " 'CHEMBL8',\n",
       " 'CHEMBL9']"
      ]
     },
     "execution_count": 59,
     "metadata": {},
     "output_type": "execute_result"
    }
   ],
   "source": [
    "chembl_ids = np.arange(0, 2000000) #2018 1,879,206\n",
    "chembl_ids = ['CHEMBL' + str(x) for x in chebi_ids]\n",
    "chembl_ids[0:10]"
   ]
  },
  {
   "cell_type": "code",
   "execution_count": null,
   "metadata": {},
   "outputs": [],
   "source": [
    "start = time.time()\n",
    "\n",
    "c, i = [], []\n",
    "for chembl_id in chembl_ids:\n",
    "    molecule = new_client.molecule\n",
    "    try:\n",
    "        mols = molecule.filter(molecule_chembl_id=chembl_id)\n",
    "        df = pd.DataFrame(mols)\n",
    "        c.append(chembl_id)\n",
    "    except Exception as e:\n",
    "        i.append(chembl_id)\n",
    "        \n",
    "print(f'Total time: {time.time() - start}')\n",
    "print(f'{len(c)} found - {len(i)} not found')"
   ]
  },
  {
   "cell_type": "markdown",
   "metadata": {},
   "source": [
    "- 4.81 x 10^-3 segundos por componente\n",
    "- 2000000 componentes totales aprox\n",
    "- Total: 9620 segundos -> 2.67 horas aprox"
   ]
  },
  {
   "cell_type": "markdown",
   "metadata": {},
   "source": [
    "# KEGG"
   ]
  },
  {
   "cell_type": "code",
   "execution_count": null,
   "metadata": {},
   "outputs": [],
   "source": [
    "kegg_ids = [\"{:05d}\".format(a) for a in range (100000)] #2018 1,879,206\n",
    "kegg_c_ids = ['C' + str(x) for x in kegg_ids]\n",
    "kegg_d_ids = ['D' + str(x) for x in kegg_ids]\n",
    "kegg_c_ids[0:5], kegg_d_ids[0:5]"
   ]
  },
  {
   "cell_type": "markdown",
   "metadata": {},
   "source": [
    "## Compounds"
   ]
  },
  {
   "cell_type": "code",
   "execution_count": null,
   "metadata": {},
   "outputs": [],
   "source": [
    "start = time.time()\n",
    "\n",
    "c, i = [], []\n",
    "for kegg_id in kegg_c_ids:\n",
    "    molecule = new_client.molecule\n",
    "    try:\n",
    "        result = REST.kegg_get(kegg_id).read()\n",
    "        c.append(kegg_id)\n",
    "    except Exception as e:\n",
    "        i.append(kegg_id)\n",
    "        \n",
    "print(f'Total time: {time.time() - start}')\n",
    "print(f'{len(c)} found - {len(i)} not found')"
   ]
  },
  {
   "cell_type": "markdown",
   "metadata": {},
   "source": [
    "## Drugs"
   ]
  },
  {
   "cell_type": "code",
   "execution_count": null,
   "metadata": {},
   "outputs": [],
   "source": [
    "start = time.time()\n",
    "\n",
    "c, i = [], []\n",
    "for kegg_id in kegg_d_ids:\n",
    "    molecule = new_client.molecule\n",
    "    try:\n",
    "        result = REST.kegg_get(kegg_id).read()\n",
    "        c.append(kegg_id)\n",
    "    except Exception as e:\n",
    "        i.append(kegg_id)\n",
    "        \n",
    "print(f'Total time: {time.time() - start}')\n",
    "print(f'{len(c)} found - {len(i)} not found')"
   ]
  },
  {
   "cell_type": "markdown",
   "metadata": {},
   "source": [
    "- 2.28 segundos por componente\n",
    "- 1879206 componentes totales aprox\n",
    "- Total: 4284589 segundos -> 1190 horas aprox"
   ]
  },
  {
   "cell_type": "markdown",
   "metadata": {},
   "source": [
    "# Chemspider"
   ]
  },
  {
   "cell_type": "code",
   "execution_count": null,
   "metadata": {},
   "outputs": [],
   "source": [
    "chemspider_ids = list(range(114000000)) #2022 114,000,000\n",
    "chemspider_ids[0:10]"
   ]
  },
  {
   "cell_type": "code",
   "execution_count": null,
   "metadata": {},
   "outputs": [],
   "source": [
    "start = time.time()\n",
    "\n",
    "c, i = [], []\n",
    "for chemspider_id in chemspider_ids:\n",
    "    molecule = new_client.molecule\n",
    "    try:\n",
    "        c1 = cs.get_compound(chemspider_id)\n",
    "        c.append(chemspider_id)\n",
    "    except Exception as e:\n",
    "        i.append(chemspider_id)\n",
    "        \n",
    "print(f'Total time: {time.time() - start}')\n",
    "print(f'{len(c)} found - {len(i)} not found')"
   ]
  },
  {
   "cell_type": "markdown",
   "metadata": {},
   "source": [
    "- 6.51 x 10^-5 segundos por componente\n",
    "- 114000000 componentes totales aprox\n",
    "- Total: 7421 segundos -> 2.06 horas aprox"
   ]
  }
 ],
 "metadata": {
  "kernelspec": {
   "display_name": "Python 3",
   "language": "python",
   "name": "python3"
  },
  "language_info": {
   "codemirror_mode": {
    "name": "ipython",
    "version": 3
   },
   "file_extension": ".py",
   "mimetype": "text/x-python",
   "name": "python",
   "nbconvert_exporter": "python",
   "pygments_lexer": "ipython3",
   "version": "3.8.10"
  }
 },
 "nbformat": 4,
 "nbformat_minor": 4
}
