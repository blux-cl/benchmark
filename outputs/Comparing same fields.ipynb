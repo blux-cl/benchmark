{
 "cells": [
  {
   "cell_type": "code",
   "execution_count": 1,
   "metadata": {},
   "outputs": [],
   "source": [
    "import pubchempy as pcp\n",
    "import pandas as pd\n",
    "from libchebipy import ChebiEntity, Name, Comment, Formula, DatabaseAccession, Reference, CompoundOrigin, Relation\n",
    "from chembl_webresource_client.new_client import new_client\n",
    "from Bio.KEGG import REST\n",
    "import io\n",
    "import requests\n",
    "import numpy as np\n",
    "from chemspipy import ChemSpider"
   ]
  },
  {
   "cell_type": "code",
   "execution_count": 2,
   "metadata": {},
   "outputs": [],
   "source": [
    "compound_names = ['glucose']\n",
    "chebi_id = \"17234\"\n",
    "chembl_ids = ['CHEMBL2108700']\n",
    "kegg_ids = ['cpd:C00031']\n",
    "chemspider = [96749]\n",
    "short_compound_list = 'glucose'"
   ]
  },
  {
   "cell_type": "code",
   "execution_count": 3,
   "metadata": {},
   "outputs": [],
   "source": [
    "columns = ['cid',\n",
    " 'name',\n",
    " 'atom_stereo_count',\n",
    " 'atoms',\n",
    " 'bond_stereo_count',\n",
    " 'bonds',\n",
    " 'cactvs_fingerprint',\n",
    " 'canonical_smiles',\n",
    " 'charge',\n",
    " 'complexity',\n",
    " 'conformer_id_3d',\n",
    " 'conformer_rmsd_3d',\n",
    " 'coordinate_type',\n",
    " 'covalent_unit_count',\n",
    " 'defined_atom_stereo_count',\n",
    " 'defined_bond_stereo_count',\n",
    " 'effective_rotor_count_3d',\n",
    " 'elements',\n",
    " 'exact_mass',\n",
    " 'feature_selfoverlap_3d',\n",
    " 'fingerprint',\n",
    " 'h_bond_acceptor_count',\n",
    " 'h_bond_donor_count',\n",
    " 'heavy_atom_count',\n",
    " 'inchi',\n",
    " 'inchikey',\n",
    " 'isomeric_smiles',\n",
    " 'isotope_atom_count',\n",
    " 'iupac_name',\n",
    " 'mmff94_energy_3d',\n",
    " 'mmff94_partial_charges_3d',\n",
    " 'molecular_formula',\n",
    " 'molecular_weight',\n",
    " 'monoisotopic_mass',\n",
    " 'multipoles_3d',\n",
    " 'pharmacophore_features_3d',\n",
    " 'record',\n",
    " 'rotatable_bond_count',\n",
    " 'shape_fingerprint_3d',\n",
    " 'shape_selfoverlap_3d',\n",
    " 'tpsa',\n",
    " 'undefined_atom_stereo_count',\n",
    " 'undefined_bond_stereo_count',\n",
    " 'volume_3d',\n",
    " 'xlogp']"
   ]
  },
  {
   "cell_type": "code",
   "execution_count": 4,
   "metadata": {},
   "outputs": [
    {
     "name": "stdout",
     "output_type": "stream",
     "text": [
      "glucose:Compound(5793)\n"
     ]
    }
   ],
   "source": [
    "df = pd.DataFrame([], columns = columns)\n",
    "for compound_name in compound_names:\n",
    "    c =  pcp.get_compounds(compound_name, 'name')\n",
    "    if len(c) != 0:\n",
    "        c = c[0]\n",
    "        print(f\"{compound_name}:{c}\")\n",
    "        d = pcp.compounds_to_frame(c)\n",
    "        d.insert(0, \"name\", compound_name)\n",
    "        d.insert(0, \"cid\", c.cid)\n",
    "        df = pd.concat([df, d])\n",
    "df.reset_index(drop=True, inplace=True)"
   ]
  },
  {
   "cell_type": "code",
   "execution_count": 5,
   "metadata": {},
   "outputs": [
    {
     "data": {
      "text/html": [
       "<div>\n",
       "<style scoped>\n",
       "    .dataframe tbody tr th:only-of-type {\n",
       "        vertical-align: middle;\n",
       "    }\n",
       "\n",
       "    .dataframe tbody tr th {\n",
       "        vertical-align: top;\n",
       "    }\n",
       "\n",
       "    .dataframe thead th {\n",
       "        text-align: right;\n",
       "    }\n",
       "</style>\n",
       "<table border=\"1\" class=\"dataframe\">\n",
       "  <thead>\n",
       "    <tr style=\"text-align: right;\">\n",
       "      <th></th>\n",
       "      <th>cid</th>\n",
       "      <th>name</th>\n",
       "      <th>atoms</th>\n",
       "      <th>atom_stereo_count</th>\n",
       "      <th>bonds</th>\n",
       "      <th>bond_stereo_count</th>\n",
       "      <th>charge</th>\n",
       "      <th>exact_mass</th>\n",
       "      <th>inchi</th>\n",
       "      <th>inchikey</th>\n",
       "    </tr>\n",
       "  </thead>\n",
       "  <tbody>\n",
       "    <tr>\n",
       "      <th>0</th>\n",
       "      <td>5793</td>\n",
       "      <td>glucose</td>\n",
       "      <td>[{'aid': 1, 'number': 8, 'element': 'O', 'x': ...</td>\n",
       "      <td>5</td>\n",
       "      <td>[{'aid1': 1, 'aid2': 9, 'order': 1}, {'aid1': ...</td>\n",
       "      <td>0</td>\n",
       "      <td>0</td>\n",
       "      <td>180.06338810</td>\n",
       "      <td>InChI=1S/C6H12O6/c7-1-2-3(8)4(9)5(10)6(11)12-2...</td>\n",
       "      <td>WQZGKKKJIJFFOK-GASJEMHNSA-N</td>\n",
       "    </tr>\n",
       "  </tbody>\n",
       "</table>\n",
       "</div>"
      ],
      "text/plain": [
       "    cid     name                                              atoms  \\\n",
       "0  5793  glucose  [{'aid': 1, 'number': 8, 'element': 'O', 'x': ...   \n",
       "\n",
       "  atom_stereo_count                                              bonds  \\\n",
       "0                 5  [{'aid1': 1, 'aid2': 9, 'order': 1}, {'aid1': ...   \n",
       "\n",
       "  bond_stereo_count charge    exact_mass  \\\n",
       "0                 0      0  180.06338810   \n",
       "\n",
       "                                               inchi  \\\n",
       "0  InChI=1S/C6H12O6/c7-1-2-3(8)4(9)5(10)6(11)12-2...   \n",
       "\n",
       "                      inchikey  \n",
       "0  WQZGKKKJIJFFOK-GASJEMHNSA-N  "
      ]
     },
     "execution_count": 5,
     "metadata": {},
     "output_type": "execute_result"
    }
   ],
   "source": [
    "pubchem = df[['cid', 'name', 'atoms', 'atom_stereo_count', 'bonds', 'bond_stereo_count', 'charge', 'exact_mass', 'inchi', 'inchikey']]\n",
    "pubchem"
   ]
  },
  {
   "cell_type": "code",
   "execution_count": 6,
   "metadata": {},
   "outputs": [
    {
     "data": {
      "text/html": [
       "<div>\n",
       "<style scoped>\n",
       "    .dataframe tbody tr th:only-of-type {\n",
       "        vertical-align: middle;\n",
       "    }\n",
       "\n",
       "    .dataframe tbody tr th {\n",
       "        vertical-align: top;\n",
       "    }\n",
       "\n",
       "    .dataframe thead th {\n",
       "        text-align: right;\n",
       "    }\n",
       "</style>\n",
       "<table border=\"1\" class=\"dataframe\">\n",
       "  <thead>\n",
       "    <tr style=\"text-align: right;\">\n",
       "      <th></th>\n",
       "      <th>id</th>\n",
       "      <th>name</th>\n",
       "      <th>names</th>\n",
       "      <th>charge</th>\n",
       "      <th>formula</th>\n",
       "      <th>formulae</th>\n",
       "      <th>inchi</th>\n",
       "      <th>inchi_key</th>\n",
       "      <th>mol</th>\n",
       "      <th>smiles</th>\n",
       "      <th>mass</th>\n",
       "    </tr>\n",
       "  </thead>\n",
       "  <tbody>\n",
       "    <tr>\n",
       "      <th>0</th>\n",
       "      <td>17234</td>\n",
       "      <td>glucose</td>\n",
       "      <td>[{'_Name__name': 'Glucose', '_Name__typ': 'SYN...</td>\n",
       "      <td>0</td>\n",
       "      <td>C6H12O6</td>\n",
       "      <td>[{'_Formula__formula': 'C6H12O6', '_Formula__s...</td>\n",
       "      <td>None</td>\n",
       "      <td>None</td>\n",
       "      <td>None</td>\n",
       "      <td>None</td>\n",
       "      <td>180.15588</td>\n",
       "    </tr>\n",
       "  </tbody>\n",
       "</table>\n",
       "</div>"
      ],
      "text/plain": [
       "      id     name                                              names  charge  \\\n",
       "0  17234  glucose  [{'_Name__name': 'Glucose', '_Name__typ': 'SYN...       0   \n",
       "\n",
       "   formula                                           formulae inchi inchi_key  \\\n",
       "0  C6H12O6  [{'_Formula__formula': 'C6H12O6', '_Formula__s...  None      None   \n",
       "\n",
       "    mol smiles       mass  \n",
       "0  None   None  180.15588  "
      ]
     },
     "execution_count": 6,
     "metadata": {},
     "output_type": "execute_result"
    }
   ],
   "source": [
    "chebi_entity = ChebiEntity(chebi_id=chebi_id)\n",
    "name = chebi_entity.get_name()\n",
    "names = chebi_entity.get_names()\n",
    "charge = chebi_entity.get_charge()\n",
    "formula = chebi_entity.get_formula()\n",
    "formulae = chebi_entity.get_formulae()\n",
    "inchi = chebi_entity.get_inchi()\n",
    "inchi_key = chebi_entity.get_inchi_key()\n",
    "mol = chebi_entity.get_mol()\n",
    "smiles = chebi_entity.get_smiles()\n",
    "mass = chebi_entity.get_mass()\n",
    "columns = [\n",
    "    'id', 'name', 'names', 'charge', 'formula', 'formulae', 'inchi', 'inchi_key', 'mol', 'smiles', 'mass'\n",
    "] \n",
    "\n",
    "row = [chebi_id, name, names, charge, formula, formulae, inchi, inchi_key, mol, smiles, mass]\n",
    "chebi = pd.DataFrame([row], columns =columns)\n",
    "chebi"
   ]
  },
  {
   "cell_type": "code",
   "execution_count": 7,
   "metadata": {},
   "outputs": [
    {
     "data": {
      "text/plain": [
       "1"
      ]
     },
     "metadata": {},
     "output_type": "display_data"
    },
    {
     "data": {
      "text/html": [
       "<div>\n",
       "<style scoped>\n",
       "    .dataframe tbody tr th:only-of-type {\n",
       "        vertical-align: middle;\n",
       "    }\n",
       "\n",
       "    .dataframe tbody tr th {\n",
       "        vertical-align: top;\n",
       "    }\n",
       "\n",
       "    .dataframe thead th {\n",
       "        text-align: right;\n",
       "    }\n",
       "</style>\n",
       "<table border=\"1\" class=\"dataframe\">\n",
       "  <thead>\n",
       "    <tr style=\"text-align: right;\">\n",
       "      <th></th>\n",
       "      <th>pref_name</th>\n",
       "      <th>chebi_par_id</th>\n",
       "      <th>molecule_chembl_id</th>\n",
       "    </tr>\n",
       "  </thead>\n",
       "  <tbody>\n",
       "    <tr>\n",
       "      <th>0</th>\n",
       "      <td>GLUCOSE OXIDASE</td>\n",
       "      <td>None</td>\n",
       "      <td>CHEMBL2108700</td>\n",
       "    </tr>\n",
       "  </tbody>\n",
       "</table>\n",
       "</div>"
      ],
      "text/plain": [
       "         pref_name chebi_par_id molecule_chembl_id\n",
       "0  GLUCOSE OXIDASE         None      CHEMBL2108700"
      ]
     },
     "execution_count": 7,
     "metadata": {},
     "output_type": "execute_result"
    }
   ],
   "source": [
    "molecule = new_client.molecule\n",
    "mols = molecule.filter(molecule_chembl_id__in=chembl_ids)\n",
    "display(len(mols))\n",
    "df = pd.DataFrame(mols)\n",
    "chembl = df[['pref_name', 'chebi_par_id', 'molecule_chembl_id']]\n",
    "chembl"
   ]
  },
  {
   "cell_type": "code",
   "execution_count": 8,
   "metadata": {},
   "outputs": [],
   "source": [
    "def _get_kegg(kegg_id):\n",
    "    kegg_output = REST.kegg_get(kegg_id).read()\n",
    "    results = {}\n",
    "    for line in kegg_output.split('\\n'):\n",
    "        splits = line.split()\n",
    "        if not line.startswith(' '):    \n",
    "            if len(splits) > 0:\n",
    "                key = splits[0]\n",
    "                value = ' '.join(splits[1:])\n",
    "                results[key] = value\n",
    "        else:\n",
    "            results[key] += ' '.join(splits)\n",
    "    return pd.DataFrame(results, index=[kegg_id])\n",
    "\n",
    "\n",
    "_get_kegg_v = np.vectorize(_get_kegg)\n",
    "\n",
    "def get_kegg_info(kegg_ids):\n",
    "    if isinstance(kegg_ids, str):\n",
    "        kegg_ids = [kegg_ids]\n",
    "    return pd.concat(_get_kegg_v(kegg_ids), sort=False)\n",
    "d = _get_kegg(kegg_ids[0])"
   ]
  },
  {
   "cell_type": "code",
   "execution_count": 9,
   "metadata": {},
   "outputs": [
    {
     "data": {
      "text/html": [
       "<div>\n",
       "<style scoped>\n",
       "    .dataframe tbody tr th:only-of-type {\n",
       "        vertical-align: middle;\n",
       "    }\n",
       "\n",
       "    .dataframe tbody tr th {\n",
       "        vertical-align: top;\n",
       "    }\n",
       "\n",
       "    .dataframe thead th {\n",
       "        text-align: right;\n",
       "    }\n",
       "</style>\n",
       "<table border=\"1\" class=\"dataframe\">\n",
       "  <thead>\n",
       "    <tr style=\"text-align: right;\">\n",
       "      <th></th>\n",
       "      <th>ENTRY</th>\n",
       "      <th>NAME</th>\n",
       "      <th>FORMULA</th>\n",
       "      <th>EXACT_MASS</th>\n",
       "      <th>MOL_WEIGHT</th>\n",
       "      <th>ATOM</th>\n",
       "      <th>BOND</th>\n",
       "    </tr>\n",
       "  </thead>\n",
       "  <tbody>\n",
       "    <tr>\n",
       "      <th>cpd:C00031</th>\n",
       "      <td>C00031 Compound</td>\n",
       "      <td>D-Glucose;Grape sugar;Dextrose;Glucose;D-Gluco...</td>\n",
       "      <td>C6H12O6</td>\n",
       "      <td>180.0634</td>\n",
       "      <td>180.1559</td>\n",
       "      <td>121 C1y C 24.2781 -16.53722 C1y C 24.2781 -17....</td>\n",
       "      <td>121 1 2 12 1 3 13 1 4 1 #Up4 2 5 15 2 6 1 #Dow...</td>\n",
       "    </tr>\n",
       "  </tbody>\n",
       "</table>\n",
       "</div>"
      ],
      "text/plain": [
       "                      ENTRY  \\\n",
       "cpd:C00031  C00031 Compound   \n",
       "\n",
       "                                                         NAME  FORMULA  \\\n",
       "cpd:C00031  D-Glucose;Grape sugar;Dextrose;Glucose;D-Gluco...  C6H12O6   \n",
       "\n",
       "           EXACT_MASS MOL_WEIGHT  \\\n",
       "cpd:C00031   180.0634   180.1559   \n",
       "\n",
       "                                                         ATOM  \\\n",
       "cpd:C00031  121 C1y C 24.2781 -16.53722 C1y C 24.2781 -17....   \n",
       "\n",
       "                                                         BOND  \n",
       "cpd:C00031  121 1 2 12 1 3 13 1 4 1 #Up4 2 5 15 2 6 1 #Dow...  "
      ]
     },
     "execution_count": 9,
     "metadata": {},
     "output_type": "execute_result"
    }
   ],
   "source": [
    "kegg = d[['ENTRY', 'NAME', 'FORMULA', 'EXACT_MASS', 'MOL_WEIGHT', 'ATOM', 'BOND']]\n",
    "kegg"
   ]
  },
  {
   "cell_type": "code",
   "execution_count": 10,
   "metadata": {},
   "outputs": [],
   "source": [
    "base_url = 'https://chem.nlm.nih.gov/api/data/name/inlist'\n",
    "data = 'complete'\n",
    "out_format = 'tsv'  # tsv json\n",
    "api_url = f\"{base_url}/{short_compound_list}?data={data}&format={out_format}\"\n",
    "response = requests.get(api_url)"
   ]
  },
  {
   "cell_type": "code",
   "execution_count": 11,
   "metadata": {},
   "outputs": [
    {
     "data": {
      "text/html": [
       "<div>\n",
       "<style scoped>\n",
       "    .dataframe tbody tr th:only-of-type {\n",
       "        vertical-align: middle;\n",
       "    }\n",
       "\n",
       "    .dataframe tbody tr th {\n",
       "        vertical-align: top;\n",
       "    }\n",
       "\n",
       "    .dataframe thead th {\n",
       "        text-align: right;\n",
       "    }\n",
       "</style>\n",
       "<table border=\"1\" class=\"dataframe\">\n",
       "  <thead>\n",
       "    <tr style=\"text-align: right;\">\n",
       "      <th></th>\n",
       "      <th>RN / ID</th>\n",
       "      <th>Name</th>\n",
       "      <th>InChIKey</th>\n",
       "      <th>Formula</th>\n",
       "      <th>MeSH</th>\n",
       "      <th>InChI</th>\n",
       "      <th>SMILES</th>\n",
       "    </tr>\n",
       "  </thead>\n",
       "  <tbody>\n",
       "    <tr>\n",
       "      <th>0</th>\n",
       "      <td>50-99-7</td>\n",
       "      <td>Glucose [JAN]</td>\n",
       "      <td>GZCGUPFRVQAUEE-SLPGGIOYSA-N</td>\n",
       "      <td>C6-H12-O6</td>\n",
       "      <td>Glucose</td>\n",
       "      <td>InChI=1S/C6H12O6/c7-1-3(9)5(11)6(12)4(10)2-8/h...</td>\n",
       "      <td>OC[C@@H](O)[C@@H](O)[C@H](O)[C@@H](O)C=O</td>\n",
       "    </tr>\n",
       "  </tbody>\n",
       "</table>\n",
       "</div>"
      ],
      "text/plain": [
       "   RN / ID           Name                     InChIKey    Formula     MeSH  \\\n",
       "0  50-99-7  Glucose [JAN]  GZCGUPFRVQAUEE-SLPGGIOYSA-N  C6-H12-O6  Glucose   \n",
       "\n",
       "                                               InChI  \\\n",
       "0  InChI=1S/C6H12O6/c7-1-3(9)5(11)6(12)4(10)2-8/h...   \n",
       "\n",
       "                                     SMILES  \n",
       "0  OC[C@@H](O)[C@@H](O)[C@H](O)[C@@H](O)C=O  "
      ]
     },
     "execution_count": 11,
     "metadata": {},
     "output_type": "execute_result"
    }
   ],
   "source": [
    "def to_df(result):\n",
    "    return pd.read_table(io.StringIO(result))\n",
    "\n",
    "df = to_df(response.text)\n",
    "chemid = df[['RN / ID', 'Name', 'InChIKey', 'Formula', 'MeSH', 'InChI', 'SMILES']].iloc[[0]]\n",
    "chemid"
   ]
  },
  {
   "cell_type": "code",
   "execution_count": 12,
   "metadata": {},
   "outputs": [
    {
     "data": {
      "text/plain": [
       "Index(['RN / ID', 'Last Modified', 'Name', 'InChIKey', 'Formula', 'Weight',\n",
       "       'Has 3D', 'MeSH', 'Citations', 'InChI', 'SMILES', 'Type', 'Type ID',\n",
       "       'Data', 'Sources', 'URL', 'Tox Organism', 'Tox Test Type', 'Tox Route',\n",
       "       'Tox Dose', 'Tox Effects', 'Tox PubMed ID', 'PP Property', 'PP Data',\n",
       "       'PP Value', 'PP Units', 'PP Temperature', 'PP Source'],\n",
       "      dtype='object')"
      ]
     },
     "execution_count": 12,
     "metadata": {},
     "output_type": "execute_result"
    }
   ],
   "source": [
    "df.columns"
   ]
  },
  {
   "cell_type": "code",
   "execution_count": 13,
   "metadata": {},
   "outputs": [
    {
     "data": {
      "text/html": [
       "<div>\n",
       "<style scoped>\n",
       "    .dataframe tbody tr th:only-of-type {\n",
       "        vertical-align: middle;\n",
       "    }\n",
       "\n",
       "    .dataframe tbody tr th {\n",
       "        vertical-align: top;\n",
       "    }\n",
       "\n",
       "    .dataframe thead th {\n",
       "        text-align: right;\n",
       "    }\n",
       "</style>\n",
       "<table border=\"1\" class=\"dataframe\">\n",
       "  <thead>\n",
       "    <tr style=\"text-align: right;\">\n",
       "      <th></th>\n",
       "      <th>id</th>\n",
       "      <th>smiles</th>\n",
       "      <th>formula</th>\n",
       "      <th>averageMass</th>\n",
       "      <th>molecularWeight</th>\n",
       "      <th>commonName</th>\n",
       "      <th>mol2D</th>\n",
       "      <th>mol3D</th>\n",
       "    </tr>\n",
       "  </thead>\n",
       "  <tbody>\n",
       "    <tr>\n",
       "      <th>0</th>\n",
       "      <td>96749</td>\n",
       "      <td>C([C@H]([C@H]([C@@H]([C@H](C=O)O)O)O)O)O</td>\n",
       "      <td>C_{6}H_{12}O_{6}</td>\n",
       "      <td>180.1559</td>\n",
       "      <td>180.1559</td>\n",
       "      <td>D-(+)-Glucose</td>\n",
       "      <td>MolHeader\\n  ELEMENTL09121714332D\\nDotmatics E...</td>\n",
       "      <td>107526\\n  Marvin  01040808023D          \\n\\n 2...</td>\n",
       "    </tr>\n",
       "  </tbody>\n",
       "</table>\n",
       "</div>"
      ],
      "text/plain": [
       "      id                                    smiles           formula  \\\n",
       "0  96749  C([C@H]([C@H]([C@@H]([C@H](C=O)O)O)O)O)O  C_{6}H_{12}O_{6}   \n",
       "\n",
       "  averageMass molecularWeight     commonName  \\\n",
       "0    180.1559        180.1559  D-(+)-Glucose   \n",
       "\n",
       "                                               mol2D  \\\n",
       "0  MolHeader\\n  ELEMENTL09121714332D\\nDotmatics E...   \n",
       "\n",
       "                                               mol3D  \n",
       "0  107526\\n  Marvin  01040808023D          \\n\\n 2...  "
      ]
     },
     "execution_count": 13,
     "metadata": {},
     "output_type": "execute_result"
    }
   ],
   "source": [
    "cs = ChemSpider('ud4RRF0uPgvBMTU844GFzF80QlNeSMsL')\n",
    "info = cs.get_details(chemspider[0])\n",
    "df = pd.DataFrame.from_dict(info, orient='index').T\n",
    "chemspider = df[['id', 'smiles', 'formula', 'averageMass', 'molecularWeight', 'commonName', 'mol2D', 'mol3D']]\n",
    "chemspider"
   ]
  },
  {
   "cell_type": "code",
   "execution_count": 14,
   "metadata": {},
   "outputs": [
    {
     "data": {
      "text/html": [
       "<div>\n",
       "<style scoped>\n",
       "    .dataframe tbody tr th:only-of-type {\n",
       "        vertical-align: middle;\n",
       "    }\n",
       "\n",
       "    .dataframe tbody tr th {\n",
       "        vertical-align: top;\n",
       "    }\n",
       "\n",
       "    .dataframe thead th {\n",
       "        text-align: right;\n",
       "    }\n",
       "</style>\n",
       "<table border=\"1\" class=\"dataframe\">\n",
       "  <thead>\n",
       "    <tr style=\"text-align: right;\">\n",
       "      <th></th>\n",
       "      <th>cid</th>\n",
       "      <th>name</th>\n",
       "      <th>atoms</th>\n",
       "      <th>atom_stereo_count</th>\n",
       "      <th>bonds</th>\n",
       "      <th>bond_stereo_count</th>\n",
       "      <th>charge</th>\n",
       "      <th>exact_mass</th>\n",
       "      <th>inchi</th>\n",
       "      <th>inchikey</th>\n",
       "    </tr>\n",
       "  </thead>\n",
       "  <tbody>\n",
       "    <tr>\n",
       "      <th>0</th>\n",
       "      <td>5793</td>\n",
       "      <td>glucose</td>\n",
       "      <td>[{'aid': 1, 'number': 8, 'element': 'O', 'x': ...</td>\n",
       "      <td>5</td>\n",
       "      <td>[{'aid1': 1, 'aid2': 9, 'order': 1}, {'aid1': ...</td>\n",
       "      <td>0</td>\n",
       "      <td>0</td>\n",
       "      <td>180.06338810</td>\n",
       "      <td>InChI=1S/C6H12O6/c7-1-2-3(8)4(9)5(10)6(11)12-2...</td>\n",
       "      <td>WQZGKKKJIJFFOK-GASJEMHNSA-N</td>\n",
       "    </tr>\n",
       "  </tbody>\n",
       "</table>\n",
       "</div>"
      ],
      "text/plain": [
       "    cid     name                                              atoms  \\\n",
       "0  5793  glucose  [{'aid': 1, 'number': 8, 'element': 'O', 'x': ...   \n",
       "\n",
       "  atom_stereo_count                                              bonds  \\\n",
       "0                 5  [{'aid1': 1, 'aid2': 9, 'order': 1}, {'aid1': ...   \n",
       "\n",
       "  bond_stereo_count charge    exact_mass  \\\n",
       "0                 0      0  180.06338810   \n",
       "\n",
       "                                               inchi  \\\n",
       "0  InChI=1S/C6H12O6/c7-1-2-3(8)4(9)5(10)6(11)12-2...   \n",
       "\n",
       "                      inchikey  \n",
       "0  WQZGKKKJIJFFOK-GASJEMHNSA-N  "
      ]
     },
     "metadata": {},
     "output_type": "display_data"
    },
    {
     "data": {
      "text/html": [
       "<div>\n",
       "<style scoped>\n",
       "    .dataframe tbody tr th:only-of-type {\n",
       "        vertical-align: middle;\n",
       "    }\n",
       "\n",
       "    .dataframe tbody tr th {\n",
       "        vertical-align: top;\n",
       "    }\n",
       "\n",
       "    .dataframe thead th {\n",
       "        text-align: right;\n",
       "    }\n",
       "</style>\n",
       "<table border=\"1\" class=\"dataframe\">\n",
       "  <thead>\n",
       "    <tr style=\"text-align: right;\">\n",
       "      <th></th>\n",
       "      <th>id</th>\n",
       "      <th>name</th>\n",
       "      <th>names</th>\n",
       "      <th>charge</th>\n",
       "      <th>formula</th>\n",
       "      <th>formulae</th>\n",
       "      <th>inchi</th>\n",
       "      <th>inchi_key</th>\n",
       "      <th>mol</th>\n",
       "      <th>smiles</th>\n",
       "      <th>mass</th>\n",
       "    </tr>\n",
       "  </thead>\n",
       "  <tbody>\n",
       "    <tr>\n",
       "      <th>0</th>\n",
       "      <td>17234</td>\n",
       "      <td>glucose</td>\n",
       "      <td>[{'_Name__name': 'Glucose', '_Name__typ': 'SYN...</td>\n",
       "      <td>0</td>\n",
       "      <td>C6H12O6</td>\n",
       "      <td>[{'_Formula__formula': 'C6H12O6', '_Formula__s...</td>\n",
       "      <td>None</td>\n",
       "      <td>None</td>\n",
       "      <td>None</td>\n",
       "      <td>None</td>\n",
       "      <td>180.15588</td>\n",
       "    </tr>\n",
       "  </tbody>\n",
       "</table>\n",
       "</div>"
      ],
      "text/plain": [
       "      id     name                                              names  charge  \\\n",
       "0  17234  glucose  [{'_Name__name': 'Glucose', '_Name__typ': 'SYN...       0   \n",
       "\n",
       "   formula                                           formulae inchi inchi_key  \\\n",
       "0  C6H12O6  [{'_Formula__formula': 'C6H12O6', '_Formula__s...  None      None   \n",
       "\n",
       "    mol smiles       mass  \n",
       "0  None   None  180.15588  "
      ]
     },
     "metadata": {},
     "output_type": "display_data"
    },
    {
     "data": {
      "text/html": [
       "<div>\n",
       "<style scoped>\n",
       "    .dataframe tbody tr th:only-of-type {\n",
       "        vertical-align: middle;\n",
       "    }\n",
       "\n",
       "    .dataframe tbody tr th {\n",
       "        vertical-align: top;\n",
       "    }\n",
       "\n",
       "    .dataframe thead th {\n",
       "        text-align: right;\n",
       "    }\n",
       "</style>\n",
       "<table border=\"1\" class=\"dataframe\">\n",
       "  <thead>\n",
       "    <tr style=\"text-align: right;\">\n",
       "      <th></th>\n",
       "      <th>pref_name</th>\n",
       "      <th>chebi_par_id</th>\n",
       "      <th>molecule_chembl_id</th>\n",
       "    </tr>\n",
       "  </thead>\n",
       "  <tbody>\n",
       "    <tr>\n",
       "      <th>0</th>\n",
       "      <td>GLUCOSE OXIDASE</td>\n",
       "      <td>None</td>\n",
       "      <td>CHEMBL2108700</td>\n",
       "    </tr>\n",
       "  </tbody>\n",
       "</table>\n",
       "</div>"
      ],
      "text/plain": [
       "         pref_name chebi_par_id molecule_chembl_id\n",
       "0  GLUCOSE OXIDASE         None      CHEMBL2108700"
      ]
     },
     "metadata": {},
     "output_type": "display_data"
    },
    {
     "data": {
      "text/html": [
       "<div>\n",
       "<style scoped>\n",
       "    .dataframe tbody tr th:only-of-type {\n",
       "        vertical-align: middle;\n",
       "    }\n",
       "\n",
       "    .dataframe tbody tr th {\n",
       "        vertical-align: top;\n",
       "    }\n",
       "\n",
       "    .dataframe thead th {\n",
       "        text-align: right;\n",
       "    }\n",
       "</style>\n",
       "<table border=\"1\" class=\"dataframe\">\n",
       "  <thead>\n",
       "    <tr style=\"text-align: right;\">\n",
       "      <th></th>\n",
       "      <th>ENTRY</th>\n",
       "      <th>NAME</th>\n",
       "      <th>FORMULA</th>\n",
       "      <th>EXACT_MASS</th>\n",
       "      <th>MOL_WEIGHT</th>\n",
       "      <th>ATOM</th>\n",
       "      <th>BOND</th>\n",
       "    </tr>\n",
       "  </thead>\n",
       "  <tbody>\n",
       "    <tr>\n",
       "      <th>cpd:C00031</th>\n",
       "      <td>C00031 Compound</td>\n",
       "      <td>D-Glucose;Grape sugar;Dextrose;Glucose;D-Gluco...</td>\n",
       "      <td>C6H12O6</td>\n",
       "      <td>180.0634</td>\n",
       "      <td>180.1559</td>\n",
       "      <td>121 C1y C 24.2781 -16.53722 C1y C 24.2781 -17....</td>\n",
       "      <td>121 1 2 12 1 3 13 1 4 1 #Up4 2 5 15 2 6 1 #Dow...</td>\n",
       "    </tr>\n",
       "  </tbody>\n",
       "</table>\n",
       "</div>"
      ],
      "text/plain": [
       "                      ENTRY  \\\n",
       "cpd:C00031  C00031 Compound   \n",
       "\n",
       "                                                         NAME  FORMULA  \\\n",
       "cpd:C00031  D-Glucose;Grape sugar;Dextrose;Glucose;D-Gluco...  C6H12O6   \n",
       "\n",
       "           EXACT_MASS MOL_WEIGHT  \\\n",
       "cpd:C00031   180.0634   180.1559   \n",
       "\n",
       "                                                         ATOM  \\\n",
       "cpd:C00031  121 C1y C 24.2781 -16.53722 C1y C 24.2781 -17....   \n",
       "\n",
       "                                                         BOND  \n",
       "cpd:C00031  121 1 2 12 1 3 13 1 4 1 #Up4 2 5 15 2 6 1 #Dow...  "
      ]
     },
     "metadata": {},
     "output_type": "display_data"
    },
    {
     "data": {
      "text/html": [
       "<div>\n",
       "<style scoped>\n",
       "    .dataframe tbody tr th:only-of-type {\n",
       "        vertical-align: middle;\n",
       "    }\n",
       "\n",
       "    .dataframe tbody tr th {\n",
       "        vertical-align: top;\n",
       "    }\n",
       "\n",
       "    .dataframe thead th {\n",
       "        text-align: right;\n",
       "    }\n",
       "</style>\n",
       "<table border=\"1\" class=\"dataframe\">\n",
       "  <thead>\n",
       "    <tr style=\"text-align: right;\">\n",
       "      <th></th>\n",
       "      <th>RN / ID</th>\n",
       "      <th>Name</th>\n",
       "      <th>InChIKey</th>\n",
       "      <th>Formula</th>\n",
       "      <th>MeSH</th>\n",
       "      <th>InChI</th>\n",
       "      <th>SMILES</th>\n",
       "    </tr>\n",
       "  </thead>\n",
       "  <tbody>\n",
       "    <tr>\n",
       "      <th>0</th>\n",
       "      <td>50-99-7</td>\n",
       "      <td>Glucose [JAN]</td>\n",
       "      <td>GZCGUPFRVQAUEE-SLPGGIOYSA-N</td>\n",
       "      <td>C6-H12-O6</td>\n",
       "      <td>Glucose</td>\n",
       "      <td>InChI=1S/C6H12O6/c7-1-3(9)5(11)6(12)4(10)2-8/h...</td>\n",
       "      <td>OC[C@@H](O)[C@@H](O)[C@H](O)[C@@H](O)C=O</td>\n",
       "    </tr>\n",
       "  </tbody>\n",
       "</table>\n",
       "</div>"
      ],
      "text/plain": [
       "   RN / ID           Name                     InChIKey    Formula     MeSH  \\\n",
       "0  50-99-7  Glucose [JAN]  GZCGUPFRVQAUEE-SLPGGIOYSA-N  C6-H12-O6  Glucose   \n",
       "\n",
       "                                               InChI  \\\n",
       "0  InChI=1S/C6H12O6/c7-1-3(9)5(11)6(12)4(10)2-8/h...   \n",
       "\n",
       "                                     SMILES  \n",
       "0  OC[C@@H](O)[C@@H](O)[C@H](O)[C@@H](O)C=O  "
      ]
     },
     "metadata": {},
     "output_type": "display_data"
    },
    {
     "data": {
      "text/html": [
       "<div>\n",
       "<style scoped>\n",
       "    .dataframe tbody tr th:only-of-type {\n",
       "        vertical-align: middle;\n",
       "    }\n",
       "\n",
       "    .dataframe tbody tr th {\n",
       "        vertical-align: top;\n",
       "    }\n",
       "\n",
       "    .dataframe thead th {\n",
       "        text-align: right;\n",
       "    }\n",
       "</style>\n",
       "<table border=\"1\" class=\"dataframe\">\n",
       "  <thead>\n",
       "    <tr style=\"text-align: right;\">\n",
       "      <th></th>\n",
       "      <th>id</th>\n",
       "      <th>smiles</th>\n",
       "      <th>formula</th>\n",
       "      <th>averageMass</th>\n",
       "      <th>molecularWeight</th>\n",
       "      <th>commonName</th>\n",
       "      <th>mol2D</th>\n",
       "      <th>mol3D</th>\n",
       "    </tr>\n",
       "  </thead>\n",
       "  <tbody>\n",
       "    <tr>\n",
       "      <th>0</th>\n",
       "      <td>96749</td>\n",
       "      <td>C([C@H]([C@H]([C@@H]([C@H](C=O)O)O)O)O)O</td>\n",
       "      <td>C_{6}H_{12}O_{6}</td>\n",
       "      <td>180.1559</td>\n",
       "      <td>180.1559</td>\n",
       "      <td>D-(+)-Glucose</td>\n",
       "      <td>MolHeader\\n  ELEMENTL09121714332D\\nDotmatics E...</td>\n",
       "      <td>107526\\n  Marvin  01040808023D          \\n\\n 2...</td>\n",
       "    </tr>\n",
       "  </tbody>\n",
       "</table>\n",
       "</div>"
      ],
      "text/plain": [
       "      id                                    smiles           formula  \\\n",
       "0  96749  C([C@H]([C@H]([C@@H]([C@H](C=O)O)O)O)O)O  C_{6}H_{12}O_{6}   \n",
       "\n",
       "  averageMass molecularWeight     commonName  \\\n",
       "0    180.1559        180.1559  D-(+)-Glucose   \n",
       "\n",
       "                                               mol2D  \\\n",
       "0  MolHeader\\n  ELEMENTL09121714332D\\nDotmatics E...   \n",
       "\n",
       "                                               mol3D  \n",
       "0  107526\\n  Marvin  01040808023D          \\n\\n 2...  "
      ]
     },
     "metadata": {},
     "output_type": "display_data"
    }
   ],
   "source": [
    "display(pubchem, chebi, chembl, kegg, chemid, chemspider)\n"
   ]
  },
  {
   "cell_type": "code",
   "execution_count": 23,
   "metadata": {},
   "outputs": [
    {
     "data": {
      "text/plain": [
       "('InChI=1S/C6H12O6/c7-1-2-3(8)4(9)5(10)6(11)12-2/h2-11H,1H2/t2-,3-,4+,5-,6?/m1/s1',\n",
       " None,\n",
       " 'InChI=1S/C6H12O6/c7-1-3(9)5(11)6(12)4(10)2-8/h1,3-6,8-12H,2H2/t3-,4+,5+,6+/m0/s1')"
      ]
     },
     "execution_count": 23,
     "metadata": {},
     "output_type": "execute_result"
    }
   ],
   "source": [
    "pubchem.inchi[0], chebi.inchi[0], chemid.InChI[0]"
   ]
  },
  {
   "cell_type": "code",
   "execution_count": 24,
   "metadata": {},
   "outputs": [
    {
     "data": {
      "text/plain": [
       "('WQZGKKKJIJFFOK-GASJEMHNSA-N', None, 'GZCGUPFRVQAUEE-SLPGGIOYSA-N')"
      ]
     },
     "execution_count": 24,
     "metadata": {},
     "output_type": "execute_result"
    }
   ],
   "source": [
    "pubchem.inchikey[0], chebi.inchi_key[0], chemid.InChIKey[0]"
   ]
  },
  {
   "cell_type": "code",
   "execution_count": 27,
   "metadata": {},
   "outputs": [
    {
     "data": {
      "text/plain": [
       "('glucose',\n",
       " 'glucose',\n",
       " [{'_Name__name': 'Glucose', '_Name__typ': 'SYNONYM', '_Name__source': 'KEGG COMPOUND', '_Name__adapted': False, '_Name__language': 'en'},\n",
       "  {'_Name__name': 'glucose', '_Name__typ': 'IUPAC NAME', '_Name__source': 'IUPAC', '_Name__adapted': False, '_Name__language': 'en'},\n",
       "  {'_Name__name': 'Glukose', '_Name__typ': 'SYNONYM', '_Name__source': 'ChEBI', '_Name__adapted': False, '_Name__language': 'en'},\n",
       "  {'_Name__name': 'Glc', '_Name__typ': 'SYNONYM', '_Name__source': 'JCBN', '_Name__adapted': False, '_Name__language': 'en'},\n",
       "  {'_Name__name': 'gluco-hexose', '_Name__typ': 'IUPAC NAME', '_Name__source': 'IUPAC', '_Name__adapted': False, '_Name__language': 'en'},\n",
       "  {'_Name__name': 'DL-glucose', '_Name__typ': 'SYNONYM', '_Name__source': 'ChEBI', '_Name__adapted': False, '_Name__language': 'en'}],\n",
       " 'GLUCOSE OXIDASE',\n",
       " 'D-Glucose;Grape sugar;Dextrose;Glucose;D-Glucopyranose',\n",
       " 'Glucose [JAN]',\n",
       " 'D-(+)-Glucose')"
      ]
     },
     "execution_count": 27,
     "metadata": {},
     "output_type": "execute_result"
    }
   ],
   "source": [
    "pubchem.name[0], chebi.name[0], chebi.names[0], chembl.pref_name[0], kegg.NAME[0], chemid.Name[0], chemspider.commonName[0]"
   ]
  },
  {
   "cell_type": "code",
   "execution_count": 28,
   "metadata": {},
   "outputs": [
    {
     "data": {
      "text/plain": [
       "('C6H12O6', 'C6H12O6', 'C6-H12-O6', 'C_{6}H_{12}O_{6}')"
      ]
     },
     "execution_count": 28,
     "metadata": {},
     "output_type": "execute_result"
    }
   ],
   "source": [
    "chebi.formula[0], kegg.FORMULA[0], chemid.Formula[0], chemspider.formula[0]"
   ]
  },
  {
   "cell_type": "code",
   "execution_count": 29,
   "metadata": {},
   "outputs": [
    {
     "data": {
      "text/plain": [
       "('180.06338810', 180.15588, '180.0634', 180.1559)"
      ]
     },
     "execution_count": 29,
     "metadata": {},
     "output_type": "execute_result"
    }
   ],
   "source": [
    "pubchem.exact_mass[0], chebi.mass[0], kegg.EXACT_MASS[0], chemspider.averageMass[0]"
   ]
  },
  {
   "cell_type": "code",
   "execution_count": 33,
   "metadata": {},
   "outputs": [
    {
     "data": {
      "text/plain": [
       "(None,\n",
       " 'OC[C@@H](O)[C@@H](O)[C@H](O)[C@@H](O)C=O',\n",
       " 'C([C@H]([C@H]([C@@H]([C@H](C=O)O)O)O)O)O')"
      ]
     },
     "execution_count": 33,
     "metadata": {},
     "output_type": "execute_result"
    }
   ],
   "source": [
    "chebi.smiles[0], chemid.SMILES[0], chemspider.smiles[0]"
   ]
  },
  {
   "cell_type": "code",
   "execution_count": 35,
   "metadata": {},
   "outputs": [
    {
     "data": {
      "text/plain": [
       "('180.1559', 180.1559)"
      ]
     },
     "execution_count": 35,
     "metadata": {},
     "output_type": "execute_result"
    }
   ],
   "source": [
    "kegg.MOL_WEIGHT[0], chemspider.molecularWeight[0]"
   ]
  },
  {
   "cell_type": "code",
   "execution_count": 42,
   "metadata": {},
   "outputs": [
    {
     "name": "stdout",
     "output_type": "stream",
     "text": [
      "MolHeader\n",
      "  ELEMENTL09121714332D\n",
      "Dotmatics Elemental\n",
      " 12 11  0  0  1  0            999 V2000\n",
      "    0.0000   -3.4538    0.0000 O   0  0  0  0  0\n",
      "    1.3318   -3.4538    0.0000 C   0  0  0  0  0\n",
      "    1.9976   -2.3050    0.0000 C   0  0  0  0  0\n",
      "    1.3318   -1.1488    0.0000 O   0  0  0  0  0\n",
      "    3.3294   -2.3050    0.0000 C   0  0  0  0  0\n",
      "    3.9879   -3.4538    0.0000 O   0  0  0  0  0\n",
      "    3.9879   -1.1488    0.0000 C   0  0  0  0  0\n",
      "    3.3294    0.0000    0.0000 O   0  0  0  0  0\n",
      "    5.3197   -1.1488    0.0000 C   0  0  0  0  0\n",
      "    5.9856   -2.3050    0.0000 O   0  0  0  0  0\n",
      "    5.9856    0.0000    0.0000 C   0  0  0  0  0\n",
      "    7.3173    0.0000    0.0000 O   0  0  0  0  0\n",
      "  1  2  1  0  0  0\n",
      "  2  3  1  0  0  0\n",
      "  3  4  1  1  0  0\n",
      "  3  5  1  0  0  0\n",
      "  5  6  1  6  0  0\n",
      "  5  7  1  0  0  0\n",
      "  7  8  1  6  0  0\n",
      "  7  9  1  0  0  0\n",
      "  9 10  1  6  0  0\n",
      "  9 11  1  0  0  0\n",
      " 11 12  2  0  0  0\n",
      "M  END\n",
      "\n",
      "107526\n",
      "  Marvin  01040808023D          \n",
      "\n",
      " 24 23  0  0  1  0            999 V2000\n",
      "    2.1549   -0.3369    1.0509 O   0  0  0  0  0  0  0  0  0  0  0  0\n",
      "    0.6293    1.6828    2.0481 O   0  0  0  0  0  0  0  0  0  0  0  0\n",
      "    1.0579   -2.6224   -0.1624 O   0  0  0  0  0  0  0  0  0  0  0  0\n",
      "   -1.7988    2.5129    1.0984 O   0  0  0  0  0  0  0  0  0  0  0  0\n",
      "    0.4854   -1.7333   -2.7631 O   0  0  0  0  0  0  0  0  0  0  0  0\n",
      "   -3.2835    0.3204   -0.2391 O   0  0  0  0  0  0  0  0  0  0  0  0\n",
      "    0.7399   -0.4219    0.8621 C   0  0  1  0  0  0  0  0  0  0  0  0\n",
      "    0.1301    1.0157    0.8849 C   0  0  1  0  0  0  0  0  0  0  0  0\n",
      "    0.4484   -1.3448   -0.3584 C   0  0  1  0  0  0  0  0  0  0  0  0\n",
      "   -1.4235    1.1496    0.9015 C   0  0  2  0  0  0  0  0  0  0  0  0\n",
      "    0.9129   -0.8341   -1.7433 C   0  0  0  0  0  0  0  0  0  0  0  0\n",
      "   -2.1322    0.7256   -0.2866 C   0  0  0  0  0  0  0  0  0  0  0  0\n",
      "    0.3648   -0.9416    1.7477 H   0  0  0  0  0  0  0  0  0  0  0  0\n",
      "    0.5257    1.5863    0.0419 H   0  0  0  0  0  0  0  0  0  0  0  0\n",
      "   -0.6248   -1.5412   -0.4042 H   0  0  0  0  0  0  0  0  0  0  0  0\n",
      "   -1.8037    0.5971    1.7649 H   0  0  0  0  0  0  0  0  0  0  0  0\n",
      "    2.0012   -0.7534   -1.7793 H   0  0  0  0  0  0  0  0  0  0  0  0\n",
      "    0.4947    0.1465   -1.9710 H   0  0  0  0  0  0  0  0  0  0  0  0\n",
      "    2.4976    0.1931    0.3011 H   0  0  0  0  0  0  0  0  0  0  0  0\n",
      "    0.3075    1.1644    2.8163 H   0  0  0  0  0  0  0  0  0  0  0  0\n",
      "   -1.7078    0.7839   -1.1797 H   0  0  0  0  0  0  0  0  0  0  0  0\n",
      "    0.6521   -2.9955    0.6474 H   0  0  0  0  0  0  0  0  0  0  0  0\n",
      "   -1.4402    3.0045    0.3287 H   0  0  0  0  0  0  0  0  0  0  0  0\n",
      "    0.8122   -1.3576   -3.6069 H   0  0  0  0  0  0  0  0  0  0  0  0\n",
      "  7  1  1  0  0  0  0\n",
      "  1 19  1  0  0  0  0\n",
      "  8  2  1  0  0  0  0\n",
      "  2 20  1  0  0  0  0\n",
      "  9  3  1  0  0  0  0\n",
      "  3 22  1  0  0  0  0\n",
      " 10  4  1  0  0  0  0\n",
      "  4 23  1  0  0  0  0\n",
      "  5 11  1  0  0  0  0\n",
      "  5 24  1  0  0  0  0\n",
      "  6 12  2  0  0  0  0\n",
      "  7  8  1  0  0  0  0\n",
      "  7  9  1  0  0  0  0\n",
      "  7 13  1  0  0  0  0\n",
      "  8 10  1  0  0  0  0\n",
      "  8 14  1  0  0  0  0\n",
      "  9 11  1  0  0  0  0\n",
      "  9 15  1  0  0  0  0\n",
      " 10 12  1  0  0  0  0\n",
      " 10 16  1  0  0  0  0\n",
      " 11 17  1  0  0  0  0\n",
      " 11 18  1  0  0  0  0\n",
      " 12 21  1  0  0  0  0\n",
      "M  END\n",
      "> <PUBCHEM_BONDANNOTATIONS>\n",
      "7  1  6\n",
      "8  2  6\n",
      "9  3  5\n",
      "10  4  6\n",
      "\n",
      "$$$$\n",
      "\n"
     ]
    },
    {
     "data": {
      "text/plain": [
       "(None, None, None)"
      ]
     },
     "execution_count": 42,
     "metadata": {},
     "output_type": "execute_result"
    }
   ],
   "source": [
    "chebi.mol[0], print(chemspider.mol2D[0]), print(chemspider.mol3D[0])"
   ]
  }
 ],
 "metadata": {
  "kernelspec": {
   "display_name": "Python 3",
   "language": "python",
   "name": "python3"
  },
  "language_info": {
   "codemirror_mode": {
    "name": "ipython",
    "version": 3
   },
   "file_extension": ".py",
   "mimetype": "text/x-python",
   "name": "python",
   "nbconvert_exporter": "python",
   "pygments_lexer": "ipython3",
   "version": "3.8.10"
  }
 },
 "nbformat": 4,
 "nbformat_minor": 4
}
